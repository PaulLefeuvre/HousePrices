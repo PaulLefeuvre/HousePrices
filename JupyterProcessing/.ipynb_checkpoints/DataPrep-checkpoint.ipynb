{
 "cells": [
  {
   "cell_type": "code",
   "execution_count": 3,
   "metadata": {},
   "outputs": [],
   "source": [
    "# Get all the necessary libraries and data\n",
    "from __future__ import print_function\n",
    "import os\n",
    "\n",
    "import pandas as pd\n",
    "import seaborn as sb\n",
    "import numpy as np\n",
    "\n",
    "# The labelled training data\n",
    "data = pd.read_csv(\"csv-download/train.csv\")\n",
    "data = data.drop('Id', axis=1) # Drop the id axis, which brings nothing to the machine learning system\n",
    "\n",
    "# The unlabelled test data for competition submission\n",
    "sub_data = pd.read_csv(\"csv-download/test.csv\")\n",
    "sub_data = sub_data.drop('Id', axis=1)"
   ]
  },
  {
   "cell_type": "code",
   "execution_count": 4,
   "metadata": {},
   "outputs": [],
   "source": [
    "# Fill all unknown values with 0 or \"Unknown\" so it can be properly one-hot encoded\n",
    "for col in data.columns:\n",
    "    if data[col].dtype == np.object:\n",
    "        data[col] = data[col].fillna(\"Unknown\")\n",
    "    else:\n",
    "        data[col] = data[col].fillna(0)\n",
    "\n",
    "# Same for submission data\n",
    "for col in sub_data.columns:\n",
    "    if sub_data[col].dtype == np.object:\n",
    "        sub_data[col] = sub_data[col].fillna(\"Unknown\")\n",
    "    else:\n",
    "        sub_data[col] = sub_data[col].fillna(0)"
   ]
  },
  {
   "cell_type": "code",
   "execution_count": 5,
   "metadata": {},
   "outputs": [
    {
     "data": {
      "text/plain": [
       "239"
      ]
     },
     "execution_count": 5,
     "metadata": {},
     "output_type": "execute_result"
    }
   ],
   "source": [
    "# Find all data columns that need to be one-hot encoded\n",
    "mask = data.dtypes == np.object\n",
    "mask['MSSubClass'] = True  # This one is all numbers but still uses types - needs to be one-hot encoded as well\n",
    "categorical_cols = data.columns[mask]\n",
    "\n",
    "num_ohc_cols = (data[categorical_cols].apply(lambda x: x.nunique()).sort_values(ascending=False))\n",
    "\n",
    "small_num_ohc_cols = num_ohc_cols.loc[num_ohc_cols>1] # Don't one-hot encode if there's only one type\n",
    "\n",
    "small_num_ohc_cols -= 1\n",
    "\n",
    "small_num_ohc_cols.sum()\n",
    "\n",
    "# This mask will be used for both data and sub_data to ensure they are both similarly one-hot encoded"
   ]
  },
  {
   "cell_type": "code",
   "execution_count": 6,
   "metadata": {},
   "outputs": [],
   "source": [
    "from sklearn.preprocessing import OneHotEncoder, LabelEncoder\n",
    "\n",
    "data_ohc = data.copy()\n",
    "sub_data_ohc = sub_data.copy()\n",
    "\n",
    "le = LabelEncoder()\n",
    "ohc = OneHotEncoder()\n",
    "\n",
    "for col in num_ohc_cols.index:\n",
    "    # Integer encode the string categories\n",
    "    le.fit(np.concatenate((data_ohc[col], sub_data_ohc[col]), axis=None))\n",
    "    dat = le.transform(data_ohc[col]).astype(np.int)\n",
    "    sub_dat = le.transform(sub_data_ohc[col]).astype(np.int)\n",
    "    \n",
    "    # Remove the original column from the dataframe\n",
    "    data_ohc = data_ohc.drop(col, axis=1)\n",
    "    sub_data_ohc = sub_data_ohc.drop(col, axis=1)\n",
    "\n",
    "    # One hot encode the data--this returns a sparse array\n",
    "    ohc.fit(np.concatenate((dat, sub_dat),axis=None).reshape(-1,1))\n",
    "    new_dat = ohc.transform(dat.reshape(-1,1))\n",
    "    new_sub_dat = ohc.transform(sub_dat.reshape(-1,1))\n",
    "    \n",
    "    # Create unique column names\n",
    "    n_cols = new_dat.shape[1]\n",
    "    col_names = ['_'.join([col, str(le.inverse_transform([x])[0])]) for x in range(n_cols)]\n",
    "    n_sub_cols = new_sub_dat.shape[1]\n",
    "    sub_col_names = ['_'.join([col, str(le.inverse_transform([x])[0])]) for x in range(n_sub_cols)]\n",
    "\n",
    "    # Create the new dataframe\n",
    "    new_df = pd.DataFrame(new_dat.toarray(), \n",
    "                          index=data_ohc.index, \n",
    "                          columns=col_names)\n",
    "    new_sub_df = pd.DataFrame(new_sub_dat.toarray(), \n",
    "                          index=sub_data_ohc.index, \n",
    "                          columns=sub_col_names)\n",
    "\n",
    "    # Append the new data to the dataframe\n",
    "    data_ohc = pd.concat([data_ohc, new_df], axis=1)\n",
    "    sub_data_ohc = pd.concat([sub_data_ohc, new_sub_df], axis=1)"
   ]
  },
  {
   "cell_type": "code",
   "execution_count": 5,
   "metadata": {},
   "outputs": [],
   "source": [
    "from sklearn.model_selection import train_test_split\n",
    "\n",
    "# Put the SalePrice column at the end for easy finding in Octave\n",
    "salePrice = data_ohc.pop('SalePrice')\n",
    "\n",
    "X_train, X_test, y_train, y_test = train_test_split(data_ohc, salePrice, train_size=0.8, random_state=42)\n",
    "X_train, X_cv, y_train, y_cv = train_test_split(X_train, y_train, train_size=0.75, random_state=42)"
   ]
  },
  {
   "cell_type": "code",
   "execution_count": 9,
   "metadata": {},
   "outputs": [],
   "source": [
    "# Export it all to .txt files\n",
    "np.savetxt('txt-data/X.txt', X_train.values, fmt='%d')\n",
    "np.savetxt('txt-data/Xtest.txt', X_test.values, fmt='%d')\n",
    "np.savetxt('txt-data/Xcv.txt', X_cv.values, fmt='%d')\n",
    "np.savetxt('txt-data/y.txt', y_train.values, fmt='%d')\n",
    "np.savetxt('txt-data/ytest.txt', y_test.values, fmt='%d')\n",
    "np.savetxt('txt-data/ycv.txt', y_cv.values, fmt='%d')\n",
    "np.savetxt('txt-data/yfinal.txt', sub_data_ohc.values, fmt='%d')\n",
    "\n",
    "#  In order to export to csv files\n",
    "# X_train.to_csv('processed_Xtrain.csv', index=False)\n",
    "# X_test.to_csv('processed_Xtest.csv', index=False)\n",
    "# X_cv.to_csv('processed_Xcv.csv', index=False)\n",
    "# y_train.to_csv('processed_ytrain.csv', index=False)\n",
    "# y_test.to_csv('processed_ytest.csv', index=False)\n",
    "# y_cv.to_csv('processed_ycv.csv', index=False)\n",
    "# sub_data_ohc.to_csv('processed_sub_test.csv', index=False)"
   ]
  }
 ],
 "metadata": {
  "kernelspec": {
   "display_name": "Python 3",
   "language": "python",
   "name": "python3"
  },
  "language_info": {
   "codemirror_mode": {
    "name": "ipython",
    "version": 3
   },
   "file_extension": ".py",
   "mimetype": "text/x-python",
   "name": "python",
   "nbconvert_exporter": "python",
   "pygments_lexer": "ipython3",
   "version": "3.7.6"
  }
 },
 "nbformat": 4,
 "nbformat_minor": 4
}
